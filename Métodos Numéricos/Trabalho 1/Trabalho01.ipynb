{
 "cells": [
  {
   "cell_type": "markdown",
   "metadata": {},
   "source": [
    "# Departamento de Engenharia de Teleinformática\n",
    "\n",
    "# Computação Numérica / Métodos Numéricos\n",
    "\n",
    "# Tarcisio Ferreira Maciel, Dr.-Ing. (Professor: [maciel@ufc.br](mailto:maciel@ufc.br))\n",
    "\n",
    "# Darlan Cavalcante Moreira, M.Sc. (Colaborador: [darlan@gtel.ufc.br](mailto:darlan@gtel.ufc.br))"
   ]
  },
  {
   "cell_type": "markdown",
   "metadata": {},
   "source": [
    "## Identificação do aluno\n",
    "\n",
    "Nome: **Alef Carneiro de Sousa**\n",
    "\n",
    "Matrícula: **374914**"
   ]
  },
  {
   "cell_type": "markdown",
   "metadata": {},
   "source": [
    "## Instruções\n",
    "\n",
    "As questões abaixo devem ser resolvidas aqui mesmo no **Jupyter Notebook** e podem envolver tanto soluções escritas em markdown (veja sintaxe para markdown [aqui](https://daringfireball.net/projects/markdown/basics)), como soluções em código. A questão 0 abaixo serve de exemplo de como as questões devem ser resolvidas.\n",
    "\n",
    "<div class=\"alert alert-warning\">\n",
    "**Dica:** em células markdown vocês podem usar dois espaços para criar uma quebra de linha.\n",
    "</div>"
   ]
  },
  {
   "cell_type": "markdown",
   "metadata": {},
   "source": [
    "## Questão 0\n",
    "\n",
    "Para entender como as questões devem ser resolvidas, faça:\n",
    "\n",
    "1. Em que país estamos?\n",
    "2. Implemente uma função que retorne o dobro da entrada\n"
   ]
  },
  {
   "cell_type": "markdown",
   "metadata": {},
   "source": [
    "## Solução de 0\n",
    "\n",
    "<!-- Não apague o div -->\n",
    "<div class=\"solucao alert alert-success\">\n",
    "\n",
    "Estamos no Brasil.\n",
    "\n",
    "<!-- Não apague o div -->\n",
    "</div>"
   ]
  },
  {
   "cell_type": "code",
   "execution_count": null,
   "metadata": {
    "collapsed": true
   },
   "outputs": [],
   "source": [
    "# Solução de 2: Implementação em python\n",
    "def dobro(x):\n",
    "    return 2 * x"
   ]
  },
  {
   "cell_type": "markdown",
   "metadata": {},
   "source": [
    "----"
   ]
  },
  {
   "cell_type": "markdown",
   "metadata": {},
   "source": [
    "## Questão 1\n",
    "Escreva um programa em C/C++11 e uma **função** equivalente em Python 3.X que leia um número de ponto flutuante de 32 ou 64 bits e que imprima esse os bits desse número no formato IEEE-754 $b_S|b_1 b_2 \\ldots b_E|b_1 b_2 \\ldots b_M$ onde (S, E, M) é igual a (1, 8, 23) para precisão simples e (1, 11, 52) para precisão dupla. Note que nesta questão é suficiente imprimir a forma binária do número não sendo necessário implementar o processo de normalização."
   ]
  },
  {
   "cell_type": "markdown",
   "metadata": {},
   "source": [
    "## Solução em C/C++11:\n",
    "\n",
    "Edite e coloque o código na célula Markdown abaixo."
   ]
  },
  {
   "cell_type": "markdown",
   "metadata": {},
   "source": [
    "```C++\n",
    "#include <iostream>\n",
    "\n",
    "int main(int argc, char *argv[]) {\n",
    "    // O código de sua solução deve vir aqui.\n",
    "    return 0;\n",
    "}\n",
    "```"
   ]
  },
  {
   "cell_type": "markdown",
   "metadata": {},
   "source": [
    "## Solução em Python 3.X:"
   ]
  },
  {
   "cell_type": "code",
   "execution_count": null,
   "metadata": {
    "collapsed": true
   },
   "outputs": [],
   "source": [
    "# Implemente sua solução aqui acompanhada de um exemplo de uso."
   ]
  },
  {
   "cell_type": "markdown",
   "metadata": {},
   "source": [
    "## Questão 2\n",
    "Escreva uma **função** programa em Python 3.X que  **implemente** o processo de normalização para converter um número de ponto flutuante de 32 ou 64 bits para sua forma binária no padrão IEEE-754."
   ]
  },
  {
   "cell_type": "code",
   "execution_count": null,
   "metadata": {
    "collapsed": true
   },
   "outputs": [],
   "source": [
    "# Implemente sua solução aqui acompanhada de um exemplo de uso."
   ]
  },
  {
   "cell_type": "markdown",
   "metadata": {},
   "source": [
    "## Questão 3\n",
    "Utilizando o contéudo da seção 3.4.1 do livro *Métodos Numéricos para Engenharia, 5a. Ed.* de *Steven Chapra & Raymond Canale* faça:\n",
    "\n",
    "1. Crie um conjunto de números hipotético em ponto flutuante para uma máquina que armazena informação usando palavras de 8 bits com (1, 3, 4) para (S, E, M). Considere que o expoente seja polarizado. Determine também o $\\varepsilon$ da máquina.\n",
    "\n",
    "2. Escreva uma **função** em Python 3.X que determine o epsilon de seu computador."
   ]
  },
  {
   "cell_type": "markdown",
   "metadata": {},
   "source": [
    "## Solução:\n",
    "\n",
    "<!-- Não apague o div -->\n",
    "<div class=\"solucao alert alert-success\">\n",
    "    <ol>\n",
    "        <h2><li>Criando conjunto de números</li></h2>\n",
    "        \n",
    "        Para criarmos um conjunto de números para um máquina de 8 bits de palavra (1, 3, 4), iremos fazer uma analogia com o que é feito para uma máquina de 64 bits, precisão dupla, (1, 11, 52).\n",
    "\n",
    "        Para precisão dupla, ou seja 11 bits de expoente, podemos representar números de -1023 a 1024, com polarização. No caso da nossa máquina de 8 bits, 3 para expoente, é possível representar números de -3 a 4, também com polarização.\n",
    "\n",
    "        <h3>Cálculo para 64 bits:</h3>\n",
    "            Para 64 bits é feito da seguinte maneira:\n",
    "            <h4>*Overflow*</h4>\n",
    "                $\\pm 2^{1024}\\approx1,8$x$10^{308}$\n",
    "            <h4>*Underflow*</h4>\n",
    "                $\\pm 2^{-1023}\\approx1,1$x$10^{-308}$\n",
    "    \n",
    "        <h3>Cálculo para 8 bits:</h3>\n",
    "            Agora iremos analogamente fazer o cálculo para definirmos o *overflow* e *underflow* da nossa máquina de 8 bits, com a diferença de que, como não é um número tão pequeno, iremos calcular o valor exato e para isso precisamos da mantissa:\n",
    "            <h4>*Overflow*</h4>\n",
    "            $\\pm 1,1111_{2}$x$2^{4}=\\pm1,9375_{10}$x$16=\\pm31$\n",
    "            <h4>*Underflow*</h4>\n",
    "            $\\pm 1,0000$x$2^{-3}=\\pm0,125$\n",
    "            <h4>Definição do conjunto</h4>\n",
    "            Agora podemos descrever nosso conjunto da seguinte maneira:\n",
    "            $X = \\{x \\in \\mathbb{R}\\mid\\left|x\\right| < 31$ $e$ $\\left|x\\right| > 0,125\\}$\n",
    "        <h2><li>Definindo $\\varepsilon$ $(epsilon)$ para máquina de 8 bits</li></h2>\n",
    "            <ul>\n",
    "                <li><h3>De acordo com o livro do Chapra:</h3></li>\n",
    "                    Na seção 3.4.1 do livro *Métodos Numéricos para Engenharia, 5a. Ed.* de *Steven Chapra & Raymond Canale* página 55 temos a seguinte fórmula, sendo $b$ a base numérica e $t$ o número de bits da mantissa: $\\varepsilon = b^{1-t}$  \n",
    "                    Aplicando ao nosso caso:  \n",
    "                    $\\varepsilon=2^{1-4}=2^{-3} \\Rightarrow \\varepsilon = 0,125$\n",
    "                <li><h3>Analogamente ao $\\varepsilon$ da máquina 64 bits:</h3></li>\n",
    "                Na máquina de 64 bits temos: $\\varepsilon = 2^{-52} = b^{-t}$  \n",
    "                Logo, para nossa máquina de 8 bits:  \n",
    "                $\\varepsilon = 2^{-4} \\Rightarrow \\varepsilon = 0,0625$\n",
    "            </ul>\n",
    "    </ol>\n",
    "<!-- Não apague o div -->\n",
    "</div>"
   ]
  },
  {
   "cell_type": "code",
   "execution_count": null,
   "metadata": {
    "collapsed": true
   },
   "outputs": [],
   "source": [
    "# Implemente sua solução de 2 aqui acompanhada de um exemplo de uso."
   ]
  },
  {
   "cell_type": "markdown",
   "metadata": {},
   "source": [
    "## Questão 4\n",
    "Escreva funções em Python 3.X que calculem $e^{-5}$ usando\n",
    "\n",
    "1. $e^{-x} = 1 - x + \\dfrac{x^2}{2!} - \\dfrac{x^2}{3!} + \\ldots $,\n",
    "2. $e^{-x} = \\dfrac{1}{e^x} = \\dfrac{1}{1 + x + \\dfrac{x^2}{2!} + \\dfrac{x^3}{3!} + \\ldots} $,\n",
    "\n",
    "e compare com o valor exato. Considere os $N$ (fornecido como parâmetro) primeiros termos e apresente o erro relativo absoluto para cada termo que for adicionado."
   ]
  },
  {
   "cell_type": "code",
   "execution_count": null,
   "metadata": {
    "collapsed": true
   },
   "outputs": [],
   "source": [
    "# Implemente sua solução aqui acompanhada de um exemplo de uso."
   ]
  },
  {
   "cell_type": "markdown",
   "metadata": {},
   "source": [
    "## Questão 5\n",
    "Calcule o polinômio $p(x) = x^3 - 7x^2 + 8x - 0,35 $ em $ x = 1,37 $. Use aritmética com 3 algarismos significativos e  e **truncamento**. Calcule o erro relativo absoluto comparado ao valor exato de $p(x)$. Repita o processo considerando $p(x)$ expresso como $p(x) = ((x - 7)x + 8)x - 0,35$. Apresente sua solução em texto e em Python 3.X."
   ]
  },
  {
   "cell_type": "markdown",
   "metadata": {},
   "source": [
    "## Solução:\n",
    "\n",
    "<!-- Não apague o div -->\n",
    "<div class=\"solucao alert alert-success\">\n",
    "\n",
    "\n",
    "<h2>Dividiremos a solução em 2 partes:</h2>\n",
    "<ul>\n",
    "    <li>$p(x) = x^3 - 7x^2 + 8x - 0,35$</li>\n",
    "    $p(1,37) = 1,37\\cdot1,37\\cdot1,37 - 7\\cdot1,37\\cdot1,37 + 8\\cdot1,37 - 0,35 = 1,88\\cdot1,37 - 7\\cdot1,88 + 11 - 0,35 \\Rightarrow$  \n",
    "    $\\Rightarrow p(x) = 2,58 - 13,2 + 11 - 0,35 = -10,6 + 11 - 0,35 = 0,4 - 0,35 \\Rightarrow p(x) = 0,05$\n",
    "    <li>$p(x) = ((x - 7)x + 8)x - 0,35$</li>\n",
    "    \n",
    "</ul\n",
    "\n",
    "\n",
    "<!-- Não apague o div -->\n",
    "</div>"
   ]
  },
  {
   "cell_type": "code",
   "execution_count": 49,
   "metadata": {
    "collapsed": false
   },
   "outputs": [
    {
     "name": "stdout",
     "output_type": "stream",
     "text": [
      "Para x = 1.37\n",
      "    Valor exato = 0.04305300000000012\n",
      "[2.58, -13.2, 11.0, -0.35]\n",
      "    p(x) = 0.05\n",
      "    pMod(x) = 0.047\n"
     ]
    }
   ],
   "source": [
    "#-*- coding: utf-8 -*-\n",
    "\n",
    "from decimal import *\n",
    "\n",
    "def p(x):\n",
    "    #p(x) = x³ - 7x² + 8x - 0.35\n",
    "    x = float(format(x, '.3g'))\n",
    "    termos = [float(format(x*x, '.3g')), float(format(x*x, '.3g')), float(format(8*x, '.3g')), -0.35]\n",
    "    termos[0] = float(format(termos[0]*x, '.3g'))\n",
    "    termos[1] = float(format(-7*termos[1], '.3g'))\n",
    "    print(termos)\n",
    "    y = 0\n",
    "    for i in range(len(termos)):\n",
    "        y = float(format(y + termos[i], '.3g'))\n",
    "\n",
    "    return y\n",
    "\n",
    "def pMod(x):\n",
    "    #p(x) = ((x - 7)x + 8)x - 0.35\n",
    "    x = float(format(x, '.3g'))\n",
    "    y = float(format(x - 7, '.3g'))\n",
    "    y = float(format(y*float(format(x, '.3g')), '.3g'))\n",
    "    y = float(format(y + 8, '.3g'))\n",
    "    y = float(format(y*float(format(x, '.3g')), '.3g'))\n",
    "    y = float(format(y - 0.35, '.3g'))\n",
    "\n",
    "    return y\n",
    "\n",
    "x = 1.37\n",
    "y = x**3 - 7*x**2 + 8*x - 0.35\n",
    "print(\"Para x = {}\".format(x))\n",
    "print(\"    Valor exato = {}\".format(y))\n",
    "print(\"    p(x) = {}\".format(p(x)))\n",
    "print(\"    pMod(x) = {}\".format(pMod(x)))"
   ]
  },
  {
   "cell_type": "markdown",
   "metadata": {},
   "source": [
    "## Questão 6\n",
    "Escreva um programa em Python 3.X para determinar o número de termos necessários para aproximar $ \\cos(0,3\\pi) $ a partir da sua expansão em série de MacLaurin até 8 algarismos significativos."
   ]
  },
  {
   "cell_type": "markdown",
   "metadata": {},
   "source": [
    "## Solução:\n",
    "\n",
    "<!-- Não apague o div -->\n",
    "<div class=\"solucao alert alert-success\">\n",
    "\n",
    "Apresente a solução textual aqui.\n",
    "\n",
    "<!-- Não apague o div -->\n",
    "</div>"
   ]
  },
  {
   "cell_type": "code",
   "execution_count": 40,
   "metadata": {
    "collapsed": false
   },
   "outputs": [
    {
     "name": "stdout",
     "output_type": "stream",
     "text": [
      "6\n"
     ]
    }
   ],
   "source": [
    "#-*- coding: utf-8 -*-\n",
    "\n",
    "import math as math\n",
    "from decimal import *\n",
    "\n",
    "def truncar(x, n):\n",
    "    getcontext().prec=n\n",
    "    if x < 0:\n",
    "        getcontext().rounding=ROUND_CEILING\n",
    "    else:\n",
    "        getcontext().rounding=ROUND_FLOOR\n",
    "\n",
    "    return float(Decimal(x)*Decimal(1))\n",
    "\n",
    "def n8McLaurin(x):\n",
    "    v_exato = truncar(math.cos(x), 8)\n",
    "    y = 0\n",
    "    i = 0\n",
    "    y = y + (((-1)**i)*(x**(2*i)))/(math.factorial(2*i))\n",
    "    while(v_exato != truncar(y, 8)):\n",
    "        i = i + 1\n",
    "        y = y + (((-1)**i)*(x**(2*i)))/(math.factorial(2*i))\n",
    "\n",
    "    return i + 1\n",
    "\n",
    "print(n8McLaurin(0.3*math.pi))"
   ]
  },
  {
   "cell_type": "markdown",
   "metadata": {},
   "source": [
    "## Questão 7\n",
    "A razão áurea pode ser definida como a razão que divide um segmento de tamanho $a + b$ de tal modo que a parte menor $a$ está para a parte maior $b$ na mesma proporção que a parte maior $b$ está para o todo $a + b$. Crie uma função ```Python GoldenSection(f, a, b, tol)``` em Python 3.X que implemente uma versão do método da bisseção que divida o intervalo segundo a razão áurea. Implemente também uma função ```Python Bissection(f, a, b, tol)``` que implemente o método da bisseção clássico e compare os dois métodos através de um exemplo de aplicação."
   ]
  },
  {
   "cell_type": "markdown",
   "metadata": {},
   "source": [
    "## Solução:\n",
    "\n",
    "<!-- Não apague o div -->\n",
    "<div class=\"solucao alert alert-success\">\n",
    "\n",
    "<h2>Exemplos de aplicação:</h2>\n",
    "<ul>\n",
    "    <li>$f(x) = x^{2} - 1, a = 0, b = 3, tol = 0.001$</li>\n",
    "</ul>\n",
    "\n",
    "<!-- Não apague o div -->\n",
    "</div>"
   ]
  },
  {
   "cell_type": "code",
   "execution_count": 32,
   "metadata": {
    "collapsed": false
   },
   "outputs": [
    {
     "name": "stdout",
     "output_type": "stream",
     "text": [
      "Método               Nº de iterações              Xns\n",
      "Bisseção                  11                    1.00048828125\n",
      "GoldenSection             10                    0.9995468961462152\n",
      "ModGoldenSection          7                    0.9995468961462152\n"
     ]
    }
   ],
   "source": [
    "#-*- coding: utf-8 -*-\n",
    "\n",
    "aurea = (1 + 5**0.5)/2\n",
    "\n",
    "def f(x):\n",
    "    #Alterar valor de retorno para função desejada\n",
    "    return x**2 - 1\n",
    "\n",
    "#Função GoldenSection sem verificação, deixando o maior pedaço sempre do mesmo lado\n",
    "def GoldenSection(f, a, b, tol):\n",
    "    if f(a)*f(b) > 0:\n",
    "        print(\"ERRO! Intervalo inválido!\")\n",
    "        return \"##\"\n",
    "    else:\n",
    "        i = 0\n",
    "        while i == 0 or abs(f(Xi)) > tol :\n",
    "            i += 1\n",
    "            Xi = (aurea*b + a)/(1 + aurea)\n",
    "            if f(Xi)*f(a) < 0:\n",
    "                b = Xi\n",
    "            else:\n",
    "                a = Xi\n",
    "            if i > 1000:\n",
    "                    print(\"Número máximo de iterações atingido.\")\n",
    "                    break\n",
    "\n",
    "        return [i, Xi]\n",
    "\n",
    "#GoldenSection com verificação para utilizar o menor pedaço do intervalo\n",
    "def ModGoldenSection(f, a, b, tol):\n",
    "    if f(a)*f(b) > 0:\n",
    "        print(\"ERRO! Intervalo inválido!\")\n",
    "        return \"##\"\n",
    "    else:\n",
    "        i = 0\n",
    "        while i == 0 or abs(f(Xi)) > tol:\n",
    "            i += 1\n",
    "            Xi = (aurea*b + a)/(1 + aurea)\n",
    "            X2 = (aurea*a + b)/(1 + aurea)\n",
    "            if abs(f(X2)) < abs(f(Xi)):\n",
    "                Xi = X2\n",
    "                if f(Xi)*f(a) < 0:\n",
    "                    b = Xi\n",
    "                else:\n",
    "                    a = Xi\n",
    "            else:\n",
    "                if f(Xi)*f(a) < 0:\n",
    "                    b = Xi\n",
    "                else:\n",
    "                    a = Xi\n",
    "            if i > 1000:\n",
    "                print(\"Número máximo de iterações atingido.\")\n",
    "                break\n",
    "\n",
    "        return [i, Xi]\n",
    "\n",
    "\n",
    "\n",
    "def Bissection(f, a, b, tol):\n",
    "    if f(a)*f(b) > 0:\n",
    "        print(\"ERRO! Intervalo inválido!\")\n",
    "        return \"##\"\n",
    "    else:\n",
    "        i = 0\n",
    "        while i == 0 or abs(f(Xi)) > tol:\n",
    "            i += 1\n",
    "            Xi = (a + b)/2\n",
    "            if f(Xi)*f(a) < 0:\n",
    "                b = Xi\n",
    "            else:\n",
    "                a = Xi\n",
    "            if i > 1000:\n",
    "                print(\"Número máximo de iterações atingido.\")\n",
    "                break\n",
    "\n",
    "        return [i, Xi]\n",
    "\n",
    "result_bissec = Bissection(f, 0, 3, 0.001)\n",
    "result_orig = GoldenSection(f, 0, 3, 0.001)\n",
    "result_mod = ModGoldenSection(f, 0, 3, 0.001)\n",
    "print(\"Método               Nº de iterações              Xns\")\n",
    "print(\"Bisseção                  {}                    {}\".format(result_bissec[0], result_bissec[1]))\n",
    "print(\"GoldenSection             {}                    {}\".format(result_orig[0], result_orig[1]))\n",
    "print(\"ModGoldenSection          {}                    {}\".format(result_mod[0], result_mod[1]))"
   ]
  },
  {
   "cell_type": "markdown",
   "metadata": {},
   "source": [
    "## Questão 8\n",
    "A fim de atenuar a natureza frequentemente unilateral do método da falsa posição, implemente uma **função** em ```Python ModifiedRegulaFalsi(f, a, b, tol)``` em Python 3.X que divida por dois o valor de $f(x)$ no limite do intervalo que permanecer inalterado por três iterações consecutivas, substituindo assim a secante do método original por uma reta de menor inclinação (veja o exercício 3.18 do livro *Métodos Numéricos para Engenheiros e Cientistas* de *Amos Gilat & Vish Subramaniam*). Crie também uma função ```Python RegulaFalsi(f, a, b, tol)``` que implemente o método original. Compare os métodos através de um exemplo de aplicação."
   ]
  },
  {
   "cell_type": "markdown",
   "metadata": {},
   "source": [
    "## Solução:\n",
    "\n",
    "<!-- Não apague o div -->\n",
    "<div class=\"solucao alert alert-success\">\n",
    "\n",
    "Descreva aqui seu exemplo de aplicação.\n",
    "\n",
    "<!-- Não apague o div -->\n",
    "</div>"
   ]
  },
  {
   "cell_type": "code",
   "execution_count": 6,
   "metadata": {
    "collapsed": false
   },
   "outputs": [
    {
     "name": "stdout",
     "output_type": "stream",
     "text": [
      "Método               Nº de iterações              Xns\n",
      "Falsa Posição            3                    0.7033504434547297\n",
      "Modificada               4                    0.7035590948553968\n"
     ]
    }
   ],
   "source": [
    "#-*- coding: utf-8 -*-\n",
    "\n",
    "import numpy as np\n",
    "\n",
    "def f(x):\n",
    "    #Alterar valor de retorno para função desejada\n",
    "    return x**2 - np.exp(-x)\n",
    "\n",
    "def RegulaFalsi(f, a, b, tol):\n",
    "\n",
    "    if f(a)*f(b) > 0:\n",
    "        print(\"ERRO! Intervalo inválido!\")\n",
    "        return \"##\"\n",
    "\n",
    "    i = 0\n",
    "    while i == 0 or abs(f(Xi)) > tol:\n",
    "        Xi = (a*f(b) - b*f(a))/(f(b) - f(a))\n",
    "        if f(a)*f(Xi) < 0:\n",
    "            b = Xi\n",
    "        else:\n",
    "            a = Xi\n",
    "        i = i + 1\n",
    "        Xi = (a*f(b) - b*f(a))/(f(b) - f(a))\n",
    "        if i > 1000:\n",
    "            print(\"Número máximo de iterações atingido.\")\n",
    "            break\n",
    "    return [i, Xi]\n",
    "\n",
    "def ModifiedRegulaFalsi(f, a, b, tol):\n",
    "\n",
    "    if f(a)*f(b) > 0:\n",
    "        print(\"ERRO! Intervalo inválido!\")\n",
    "        return \"##\"\n",
    "\n",
    "    i = 0\n",
    "    i_a = 0\n",
    "    i_b = 0\n",
    "    while i == 0 or abs(f(Xi)) > tol:\n",
    "        Xi = (a*f(b) - b*f(a))/(f(b) - f(a))\n",
    "        i = i + 1\n",
    "        if f(a)*f(Xi) < 0:\n",
    "            b = Xi\n",
    "            i_b = 0\n",
    "            i_a = i_a + 1\n",
    "        else:\n",
    "            a = Xi\n",
    "            i_a = 0\n",
    "            i_b = i_b + 1\n",
    "        if i_a >= 3:\n",
    "            Xi = (a*f(b) - b*f(a)/2)/(f(b) - f(a)/2)\n",
    "        elif i_b >= 3:\n",
    "            Xi = (a*f(b)/2 - b*f(a))/(f(b)/2 - f(a))\n",
    "        else:\n",
    "            Xi = (a*f(b) - b*f(a))/(f(b) - f(a))\n",
    "        if i > 1000:\n",
    "            print(\"Número máximo de iterações atingido.\")\n",
    "            break\n",
    "\n",
    "    return [i, Xi]\n",
    "\n",
    "#Alterando o valor da tolerância é possível ver a diferença entre os métodos\n",
    "result_orig = RegulaFalsi(f, 0, 1, 0.001)\n",
    "result_mod = ModifiedRegulaFalsi(f, 0, 1, 0.001)\n",
    "print(\"Método               Nº de iterações              Xns\")\n",
    "print(\"Falsa Posição            {}                    {}\".format(result_orig[0], result_orig[1]))\n",
    "print(\"Modificada               {}                    {}\".format(result_mod[0], result_mod[1]))"
   ]
  },
  {
   "cell_type": "markdown",
   "metadata": {},
   "source": [
    "## Questão 9\n",
    "Em vez de usar dois valores arbitrários para fazer uma estimativa da derivada, uma abordagem alternativa envolve utilizar uma pequena perturbação $\\delta x$ da variável independente $x$ para fazer\n",
    "$$f'(x_i) \\approxeq \\dfrac{f(x_i + \\delta x_i) - f(x_i)}{\\delta x_i} $$\n",
    "onde $\\delta$ é uma pequena fração de perturbação. Utilizando essa formulação, implemente uma função ```Python ModifiedSecant(f, x, delta, tol)``` em Python 3.X para o método da secante."
   ]
  },
  {
   "cell_type": "markdown",
   "metadata": {},
   "source": [
    "## Solução:\n",
    "\n",
    "<!-- Não apague o div -->\n",
    "<div class=\"solucao alert alert-success\">\n",
    "\n",
    "Apresente a solução textual aqui.\n",
    "\n",
    "<!-- Não apague o div -->\n",
    "</div>"
   ]
  },
  {
   "cell_type": "code",
   "execution_count": 2,
   "metadata": {
    "collapsed": false
   },
   "outputs": [
    {
     "name": "stdout",
     "output_type": "stream",
     "text": [
      "Nº de iterações          X\n",
      "7                      1.0000000000142604\n"
     ]
    }
   ],
   "source": [
    "#-*- coding: utf-8 -*-\n",
    "\n",
    "def f(x):\n",
    "    #Alterar valor de retorno para função desejada\n",
    "    return x**2 - 1\n",
    "\n",
    "def ModifiedSecant(f, x, delta, tol):\n",
    "    i = 0\n",
    "    while abs(f(x)) > tol:\n",
    "        x = x - f(x)*delta/(f(x + delta) - f(x))\n",
    "        i += 1\n",
    "        if i > 1000:\n",
    "            print(\"Número máximo de iterações atingido.\")\n",
    "    \n",
    "    return [i, x]\n",
    "\n",
    "resultado = ModifiedSecant(f, 10, 0.0000001, 0.0000000001)\n",
    "print(\"Nº de iterações          X\")\n",
    "print(\"{}                      {}\".format(resultado[0], resultado[1]))"
   ]
  },
  {
   "cell_type": "markdown",
   "metadata": {},
   "source": [
    "## Questão 10\n",
    "\n",
    "Solucione utilizando **Python 3.X** as questões 3.23, 3.29, 3.30 e 3.33 (esta última pelos métodos do ponto fixo e de Newton) do livro *Métodos Numéricos para Engenheiros e Cientistas* de *Amos Gilat & Vish Subramaniam*. Sempre que possível suas soluções devem ser genéricas o suficiente para permitir a variação de parâmetros. Sempre que possível, enriqueça suas soluções com a utilização de gráficos, equações e textos explicativos.\n",
    "\n",
    "<div class=\"alert alert-warning\">\n",
    "**Nota**: Para resolver essa questão vocês precisarão criar uma ou mais células abaixo dessa.\n",
    "</div>"
   ]
  },
  {
   "cell_type": "markdown",
   "metadata": {},
   "source": [
    "## Questão 11\n",
    "\n",
    "Solucione utilizando **Python 3.X** as questões 8.28, 8.30, 8.32 do livro *Métodos Numéricos para Engenharia, 5a. Ed.* de *Steven Chapra & Raymond Canale*. Sempre que possível suas soluções devem ser genéricas o suficiente para permitir a variação de parâmetros. Sempre que possível, enriqueça suas soluções com a utilização de gráficos, equações e textos explicativos.\n",
    "\n",
    "<div class=\"alert alert-warning\">\n",
    "**Nota**: Para resolver essa questão vocês precisarão criar uma ou mais células abaixo dessa.\n",
    "</div>"
   ]
  },
  {
   "cell_type": "markdown",
   "metadata": {},
   "source": [
    "----"
   ]
  },
  {
   "cell_type": "markdown",
   "metadata": {},
   "source": [
    "# Aparência do Notebook\n",
    "\n",
    "A célula abaixo contém código cuja única finalidade é modificar a aparência do notebook após a célula ser executada."
   ]
  },
  {
   "cell_type": "code",
   "execution_count": 1,
   "metadata": {
    "collapsed": false,
    "scrolled": false
   },
   "outputs": [
    {
     "data": {
      "text/html": [
       "<style>#notebook-container {\n",
       "    /* background-color: #aaaaaa; */\n",
       "}\n",
       "h1 {\n",
       "    margin: 10px !important;\n",
       "    text-align: center !important;\n",
       "    font-size: 14px;\n",
       "}\n",
       "\n",
       "div#notebook, div.CodeMirror, div.output_area pre, div.output_wrapper, div.prompt {\n",
       "  font-family: 'Inconsolata', monospace !important;\n",
       "  font-size: 13px;\n",
       "}\n",
       "\n",
       ".solucao {\n",
       "    /* color: green; */\n",
       "    margin-top: 10px;\n",
       "}\n",
       "\n",
       "\n",
       ".vermelho {\n",
       "    color: red;\n",
       "    /* margin-top: 10px; */\n",
       "}\n",
       "</style>"
      ],
      "text/plain": [
       "<IPython.core.display.HTML object>"
      ]
     },
     "metadata": {},
     "output_type": "display_data"
    }
   ],
   "source": [
    "from IPython.core.display import HTML, display\n",
    "\n",
    "# O arquivo styles.css deve estar na mesma pasta que o notebook\n",
    "def css_styling():\n",
    "    try:\n",
    "        styles = open(\"./styles.css\", \"r\").read()\n",
    "        html = \"<style>{0}</style>\".format(styles)\n",
    "    except FileNotFoundError:\n",
    "        html = \"<b style=\\\"font-size: 25px\\\">Arquivo 'styles.css' não encontrado</b>\"\n",
    "    return HTML(html)\n",
    "display(css_styling())"
   ]
  }
 ],
 "metadata": {
  "anaconda-cloud": {},
  "kernelspec": {
   "display_name": "Python [Root]",
   "language": "python",
   "name": "Python [Root]"
  },
  "language_info": {
   "codemirror_mode": {
    "name": "ipython",
    "version": 3
   },
   "file_extension": ".py",
   "mimetype": "text/x-python",
   "name": "python",
   "nbconvert_exporter": "python",
   "pygments_lexer": "ipython3",
   "version": "3.5.2"
  }
 },
 "nbformat": 4,
 "nbformat_minor": 1
}
